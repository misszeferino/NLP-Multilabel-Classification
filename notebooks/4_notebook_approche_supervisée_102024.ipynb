{
 "cells": [
  {
   "cell_type": "markdown",
   "metadata": {},
   "source": [
    "# Notebook 4: Modélisation supervisée"
   ]
  },
  {
   "cell_type": "markdown",
   "metadata": {},
   "source": [
    "## 1. Libraries & Settings"
   ]
  },
  {
   "cell_type": "code",
   "execution_count": 6,
   "metadata": {},
   "outputs": [],
   "source": [
    "import re\n",
    "import time\n",
    "import pandas as pd\n",
    "import numpy as np\n",
    "import matplotlib.pyplot as plt\n",
    "from bs4 import BeautifulSoup\n",
    "from nltk.corpus import stopwords\n",
    "from nltk.stem import WordNetLemmatizer\n",
    "from nltk import pos_tag\n",
    "from sklearn.model_selection import train_test_split\n",
    "from sklearn.feature_extraction.text import TfidfVectorizer\n",
    "from sklearn.preprocessing import MultiLabelBinarizer\n",
    "from sklearn.svm import LinearSVC\n",
    "from sklearn.multiclass import OneVsRestClassifier\n",
    "from sklearn.metrics import jaccard_score\n",
    "from sklearn.linear_model import SGDClassifier, LogisticRegression\n",
    "from sklearn.pipeline import Pipeline\n",
    "from sklearn.model_selection import RandomizedSearchCV\n",
    "from sklearn.exceptions import ConvergenceWarning\n",
    "import nltk\n",
    "import warnings\n",
    "import mlflow\n",
    "import mlflow.sklearn\n",
    "from tqdm import tqdm\n",
    "import pickle\n",
    "\n",
    "nltk.download('punkt', quiet = True)\n",
    "nltk.download('stopwords',quiet = True)\n",
    "nltk.download('wordnet', quiet = True)\n",
    "nltk.download('averaged_perceptron_tagger_eng', quiet = True)\n",
    "\n",
    "warnings.filterwarnings(\"ignore\", category=UserWarning, message=\".*token_pattern.*\")\n",
    "warnings.filterwarnings(\"ignore\", message=\"The parameter 'token_pattern' will not be used since 'tokenizer' is not None\")\n",
    "warnings.filterwarnings(\"ignore\", category=UserWarning, message=\".*looks more like a filename.*\")\n",
    "warnings.filterwarnings(\"ignore\", category=UserWarning, module='sklearn.feature_extraction.text')\n",
    "warnings.filterwarnings(\"ignore\", category=ConvergenceWarning)\n",
    "pd.set_option('display.max_colwidth', None)"
   ]
  },
  {
   "cell_type": "markdown",
   "metadata": {
    "jp-MarkdownHeadingCollapsed": true
   },
   "source": [
    "## 2. Load Data"
   ]
  },
  {
   "cell_type": "code",
   "execution_count": 7,
   "metadata": {},
   "outputs": [],
   "source": [
    "# Load Data\n",
    "df = pd.read_csv(\"C:/Users/Luciana/Documents/GitHub/NLP-Multi-Label-Text-Classification-for-Stack-Overflow-Tag-Prediction/QueryResults.csv\")\n",
    "\n",
    "# Drop unnecessary columns\n",
    "df.drop(columns=['Id', 'Score', 'ViewCount', 'AnswerCount', 'FavoriteCount'], inplace=True) #, 'FavoriteCount'\n",
    "df = df.sample(frac=0.5, random_state=42)\n",
    "df.reset_index(drop=True, inplace=True)"
   ]
  },
  {
   "cell_type": "markdown",
   "metadata": {
    "jp-MarkdownHeadingCollapsed": true
   },
   "source": [
    "## 3. Preprocessing"
   ]
  },
  {
   "cell_type": "code",
   "execution_count": 8,
   "metadata": {},
   "outputs": [],
   "source": [
    "# Function for cleaning TAGS ---------------------------------------------------------------------\n",
    "special_words = {'c#', 'c++', 'f#', 'asp.net', 'vb.net', 'node.js', 'objective-c', 'ai'}\n",
    "\n",
    "# Function for the 'Tags' colum ---------------------------------------------------------------------\n",
    "def preprocess_tags(tags):\n",
    "    def clean_word(word):        \n",
    "        if word in special_words: # Preserve special words exactly\n",
    "            return word        \n",
    "        cleaned_word = re.sub(r\"[^\\w\\s\\-]\", \"\", word) # Remove unwanted characters except hyphen, apostrophe        \n",
    "        cleaned_word = re.sub(r\"[-\\d]+$\", \"\", cleaned_word) # Remove trailing hyphens or numbers\n",
    "        if re.search(r\"\\d\", cleaned_word):  # Remove words containing any number\n",
    "            return \"\"\n",
    "        return cleaned_word    \n",
    "        \n",
    "    words = re.findall(r'(?<=<)(.*?)(?=>)', tags)  # Extract words\n",
    "    processed_words = [\n",
    "        clean_word(word) for word in words] # Keep words within length constraints \n",
    "    words = [subword for word in processed_words for subword in word.split()]  \n",
    "    words = [w for w in words if len(w) > 2 or w in special_words] \n",
    "    return words\n",
    "\n",
    "# Function for cleaning BODY & TITLE ---------------------------------------------------------------------\n",
    "def clean_text(sentence):\n",
    "    def clean_word(word):\n",
    "        if word in special_words:  # Preserve special words exactly\n",
    "            return [word]        \n",
    "        cleaned_word = re.sub(r\"(\\'s|\\'ve|\\'d|\\'ll|\\'re|\\'m|\\'t)$\", \"\", word) # Remove common contraction suffixes        \n",
    "        cleaned_word = re.sub(r\"[^\\w\\s\\-]\", \" \", cleaned_word)  # Replace non-alphanumeric characters (except hyphens) with spaces\n",
    "        cleaned_word = re.sub(r\"^-+\", \"\", cleaned_word)  # Remove leading hyphens\n",
    "        cleaned_word = re.sub(r\"[-\\d]+$\", \"\", cleaned_word)  # Remove trailing hyphens or numbers\n",
    "        cleaned_word = cleaned_word.strip()\n",
    "        \n",
    "        if len(cleaned_word) <= 1 and cleaned_word not in special_words: # remove any single-letter words after cleaning\n",
    "            return None        \n",
    "        split_words = re.split(r'[.\\-#]', cleaned_word) # Split words like 'this.opacity' into 'this' and 'opacity'        \n",
    "        split_words = [sub_word for word in split_words for sub_word in word.split() if sub_word] # additional split on spaces in case of unexpected grouping        \n",
    "        return [w for w in split_words if w] # Remove empty strings from the split result\n",
    "    \n",
    "    soup = BeautifulSoup(sentence, \"html.parser\") # Remove HTML tags and convert to lowercase\n",
    "    sentence = soup.get_text()\n",
    "    sentence = sentence.lower()    \n",
    "    words = sentence.split()     \n",
    "    words = re.findall(r\"\\w+[-.#']?\\w*|\\S+\", sentence) # Tokenize words \n",
    "    \n",
    "    processed_words = [clean_word(word) for word in words] # Process and filter words\n",
    "    filtered_words = [\n",
    "        word for sublist in processed_words if sublist for word in sublist\n",
    "        if len(word) > 1  # Exclude single-letter words\n",
    "        and '_' not in word  # Exclude words with underscores\n",
    "        and word.isascii()  # Exclude non-ASCII words\n",
    "        and not any(char.isdigit() for char in word)  ]  # Exclude words with digits\n",
    "    return filtered_words\n",
    "    \n",
    "# STOP WORDS -------------------------------------------------------------------\n",
    "stop_w = set(stopwords.words('english'))\n",
    "def stop_word_filter(list_words):\n",
    "    return [ w for w in list_words if w not in stop_w]\n",
    "\n",
    "# LEMMA -------------------------------------------------------------------\n",
    "lemmatizer = WordNetLemmatizer()\n",
    "def lemma_words(list_words):\n",
    "    return [lemmatizer.lemmatize(w, pos='v') for w in list_words]\n",
    "\n",
    "# Remove specific words -------------------------------------------------------------------\n",
    "words_to_exclude = {'however', 'good', 'anyone', 'say', 'problem','better', 'another', 'please', 'etc', 'actually','someone', 'happen', 'ask',  'maybe', 'look', 'little', 'advance',\n",
    "'need', 'something', 'question', 'example', 'thank', 'also', 'cannot', 'think', 'anything', 'idea', 'thing', 'ideas', 'people', 'basically', 'nice', 'easily', 'feel',\n",
    "'obviously', 'specifically', 'problem'}\n",
    "def remove_words(tokens):\n",
    "    tagged_tokens = nltk.pos_tag(tokens)\n",
    "    tags_to_remove = {'MD', 'CD' } # 'WRB', 'WP$', 'PRP$', 'PDT', 'JJR',  'EX'\n",
    "    return [ word for word, tag in tagged_tokens\n",
    "        if tag not in tags_to_remove and word.lower() not in words_to_exclude]\n",
    "\n",
    "# Preprocessing BODY & TITLE ---------------------------------------------------------------------\n",
    "def custom_tokenizer(desc_text):\n",
    "    cleaned = clean_text(desc_text)\n",
    "    filtered = stop_word_filter(cleaned)\n",
    "    lemmatized = lemma_words(filtered)\n",
    "    words_removed = remove_words(lemmatized)\n",
    "    return words_removed\n",
    "    \n",
    "# Apply preprocessing\n",
    "df['Tags'] = df['Tags'].apply(preprocess_tags)\n",
    "df['title_clean_bow'] = df['Title'].apply(custom_tokenizer)\n",
    "df['body_clean_bow'] = df['Body'].apply(custom_tokenizer)\n",
    "\n",
    "# Combine \"Title\" and \"Body\" for the Bag of Words approach\n",
    "df['combined_text_bow'] = df['title_clean_bow'] + df['body_clean_bow']\n",
    "df['combined_text_bow'] = df['combined_text_bow'].apply(lambda x: ' '.join(x))\n",
    "X = df['combined_text_bow']\n",
    "\n",
    "# Truncate the body column to X amount of words\n",
    "#max_lenght_body = 250\n",
    "#df['combined_text_bow'] = df['combined_text_bow'].apply(lambda x: x[:max_lenght_body])\n",
    "\n",
    "# MultiLabelBinarizer for target column\n",
    "mlb = MultiLabelBinarizer()\n",
    "y = pd.DataFrame(mlb.fit_transform(df['Tags']), columns=mlb.classes_)\n",
    "top_tags = y.sum().sort_values(ascending=False).head(100).index\n",
    "y_top_tags = y[top_tags]\n",
    "y_top_tags = y_top_tags[y_top_tags.sum(axis=1) > 0]\n",
    "X_filtered = X.loc[y_top_tags.index]  \n",
    "y = y_top_tags\n",
    "y.reset_index(drop=True, inplace=True)\n",
    "X_filtered.reset_index(drop=True, inplace=True)\n",
    "\n",
    "# Split the data\n",
    "X_train, X_test, y_train, y_test = train_test_split(X_filtered, y, test_size=0.2, random_state=42)"
   ]
  },
  {
   "cell_type": "markdown",
   "metadata": {
    "jp-MarkdownHeadingCollapsed": true
   },
   "source": [
    "## 4. TFIDF + Modeling"
   ]
  },
  {
   "cell_type": "code",
   "execution_count": 9,
   "metadata": {},
   "outputs": [
    {
     "name": "stdout",
     "output_type": "stream",
     "text": [
      "Jaccard Score: 0.5056649369149369\n"
     ]
    }
   ],
   "source": [
    "# # Vectorize with TF-IDF\n",
    "tfidf = TfidfVectorizer(tokenizer=custom_tokenizer, max_features=10000, max_df=0.9, min_df=5, ngram_range=(1, 2), sublinear_tf=True)\n",
    "X_train_tfidf = tfidf.fit_transform(X_train)\n",
    "X_test_tfidf = tfidf.transform(X_test)\n",
    "\n",
    "# Model training and evaluation\n",
    "svc = LinearSVC(dual='auto', C=1.5, penalty='l1', max_iter=10000)\n",
    "clf = OneVsRestClassifier(svc)\n",
    "clf.fit(X_train_tfidf, y_train)\n",
    "y_pred = clf.predict(X_test_tfidf)\n",
    "\n",
    "print(\"Jaccard Score:\", jaccard_score(y_test, y_pred, average='samples', zero_division=0))\n",
    "\n",
    "# Save TF-IDF Vectorizer\n",
    "with open('tfidf.pkl', 'wb') as file:\n",
    "    pickle.dump(tfidf, file)\n",
    "\n",
    "# Save the trained classifier\n",
    "with open('clf.pkl', 'wb') as file:\n",
    "    pickle.dump(clf, file)\n",
    "\n",
    "# Save the top tags\n",
    "with open('top_tags.pkl', 'wb') as file:\n",
    "    pickle.dump(list(top_tags), file)"
   ]
  },
  {
   "cell_type": "markdown",
   "metadata": {},
   "source": [
    "## 5. RandomizedSearchCV"
   ]
  },
  {
   "cell_type": "markdown",
   "metadata": {},
   "source": [
    "### 5.1 RandomizedSearchCV models"
   ]
  },
  {
   "cell_type": "code",
   "execution_count": 5,
   "metadata": {},
   "outputs": [
    {
     "name": "stdout",
     "output_type": "stream",
     "text": [
      "Optimizing SGDClassifier...\n",
      "Fitting 3 folds for each of 10 candidates, totalling 30 fits\n",
      "Best params for SGDClassifier: {'estimator__max_iter': 10000, 'estimator__loss': 'modified_huber', 'estimator__alpha': 0.0001}\n",
      "Best Jaccard score: 0.47677401302401307\n",
      "Optimizing LogisticRegression...\n"
     ]
    },
    {
     "name": "stderr",
     "output_type": "stream",
     "text": [
      "c:\\Users\\Luciana\\miniconda3\\envs\\nlp\\lib\\site-packages\\sklearn\\model_selection\\_search.py:320: UserWarning: The total space of parameters 3 is smaller than n_iter=10. Running 3 iterations. For exhaustive searches, use GridSearchCV.\n",
      "  warnings.warn(\n"
     ]
    },
    {
     "name": "stdout",
     "output_type": "stream",
     "text": [
      "Fitting 3 folds for each of 3 candidates, totalling 9 fits\n",
      "Best params for LogisticRegression: {'estimator__solver': 'liblinear', 'estimator__penalty': 'l1', 'estimator__C': 10}\n",
      "Best Jaccard score: 0.493082264957265\n",
      "Optimizing LinearSVC...\n",
      "Fitting 3 folds for each of 6 candidates, totalling 18 fits\n"
     ]
    },
    {
     "name": "stderr",
     "output_type": "stream",
     "text": [
      "c:\\Users\\Luciana\\miniconda3\\envs\\nlp\\lib\\site-packages\\sklearn\\model_selection\\_search.py:320: UserWarning: The total space of parameters 6 is smaller than n_iter=10. Running 6 iterations. For exhaustive searches, use GridSearchCV.\n",
      "  warnings.warn(\n"
     ]
    },
    {
     "name": "stdout",
     "output_type": "stream",
     "text": [
      "Best params for LinearSVC: {'estimator__penalty': 'l1', 'estimator__max_iter': 10000, 'estimator__C': 1.5}\n",
      "Best Jaccard score: 0.5056649369149369\n"
     ]
    },
    {
     "data": {
      "image/png": "[encoded data removed]",
      "text/plain": [
       "<Figure size 800x500 with 1 Axes>"
      ]
     },
     "metadata": {},
     "output_type": "display_data"
    }
   ],
   "source": [
    "# hyperparameter grids\n",
    "param_grids = {\n",
    "    'SGDClassifier': {\n",
    "        'estimator__loss': ['hinge', 'log_loss', 'modified_huber'],\n",
    "        'estimator__alpha': [0.0001, 0.001, 0.01],\n",
    "        'estimator__max_iter': [1000, 5000, 10000],\n",
    "    },\n",
    "    'LogisticRegression': {\n",
    "        'estimator__C': [0.1, 1, 10],\n",
    "        'estimator__penalty': ['l1'],  \n",
    "        'estimator__solver': ['liblinear'],  # 'lbfgs' for 'l2'\n",
    "    },\n",
    "    'LinearSVC': {\n",
    "        'estimator__C': [1, 1.5, 10],\n",
    "        'estimator__penalty': ['l2', 'l1'],\n",
    "        'estimator__max_iter': [10000],\n",
    "    }\n",
    "}\n",
    "\n",
    "# classifiers\n",
    "classifiers = {\n",
    "    'SGDClassifier': SGDClassifier(),\n",
    "    'LogisticRegression': LogisticRegression(),\n",
    "    'LinearSVC': LinearSVC(dual=False)\n",
    "}\n",
    "\n",
    "# RandomizedSearchCV for each classifier\n",
    "scores = []\n",
    "for name, classifier in classifiers.items():\n",
    "    print(f\"Optimizing {name}...\")\n",
    "    clf = OneVsRestClassifier(classifier)\n",
    "    param_grid = param_grids[name]\n",
    "    random_search = RandomizedSearchCV(\n",
    "        estimator=clf,\n",
    "        param_distributions=param_grid,\n",
    "        n_iter=10,\n",
    "        scoring='jaccard_samples', \n",
    "        cv=3,\n",
    "        verbose=1,\n",
    "        random_state=42,\n",
    "        n_jobs=-1,\n",
    "        error_score=np.nan  \n",
    "    )\n",
    "    random_search.fit(X_train_tfidf, y_train)\n",
    "    best_model = random_search.best_estimator_\n",
    "    y_pred = best_model.predict(X_test_tfidf)\n",
    "    score = jaccard_score(y_test, y_pred, average='samples', zero_division=0)\n",
    "    scores.append((name, score))\n",
    "    print(f\"Best params for {name}: {random_search.best_params_}\")\n",
    "    print(f\"Best Jaccard score: {score}\")\n",
    "\n",
    "# Extract names and Jaccard scores\n",
    "names, jaccard_scores = zip(*scores)\n",
    "\n",
    "plt.figure(figsize=(8, 5))\n",
    "plt.bar(names, jaccard_scores)\n",
    "plt.title('Optimized Jaccard Scores for Different Classifiers')\n",
    "plt.xlabel('Classifiers')\n",
    "plt.ylabel('Jaccard Score')\n",
    "plt.ylim(0, 1)\n",
    "plt.show()"
   ]
  },
  {
   "cell_type": "markdown",
   "metadata": {},
   "source": [
    "### 5.2 RandomizedSearchCV for TDIDF parameters"
   ]
  },
  {
   "cell_type": "code",
   "execution_count": 6,
   "metadata": {
    "scrolled": true
   },
   "outputs": [
    {
     "name": "stdout",
     "output_type": "stream",
     "text": [
      "Fitting 3 folds for each of 30 candidates, totalling 90 fits\n",
      "Best Parameters: {'tfidf__ngram_range': (1, 2), 'tfidf__min_df': 5, 'tfidf__max_features': 10000, 'tfidf__max_df': 0.5}\n",
      "Best Jaccard Score: 0.47045976005274365\n",
      "Test Jaccard Score: 0.4818091168091168\n"
     ]
    }
   ],
   "source": [
    "# Function to evaluate parameters\n",
    "def evaluate_tfidf_and_model(X_train, X_test, y_train, y_test):\n",
    "    # parameter grid for TF-IDF\n",
    "    param_grid = {\n",
    "        'tfidf__max_features': [8000, 10000],\n",
    "        'tfidf__max_df': [0.4, 0.5, 0.9],\n",
    "        'tfidf__min_df': [5, 10, 50],\n",
    "        'tfidf__ngram_range': [(1, 1), (1, 2)],        \n",
    "    }\n",
    "\n",
    "    # Define pipeline\n",
    "    pipeline = Pipeline([\n",
    "        ('tfidf', TfidfVectorizer(tokenizer=custom_tokenizer)),\n",
    "        ('svc', OneVsRestClassifier(LinearSVC(dual='auto', C=1.5, penalty='l1', max_iter=10000))),\n",
    "    ])\n",
    "\n",
    "    # Grid search with cross-validation\n",
    "    grid_search = RandomizedSearchCV(\n",
    "    pipeline,\n",
    "    param_distributions=param_grid,  \n",
    "    n_iter=30,                       \n",
    "    scoring='jaccard_samples',\n",
    "    cv=3,\n",
    "    verbose=3,\n",
    "    n_jobs=-1\n",
    ")\n",
    "    grid_search.fit(X_train, y_train)\n",
    "\n",
    "    # best parameters\n",
    "    print(\"Best Parameters:\", grid_search.best_params_)\n",
    "    print(\"Best Jaccard Score:\", grid_search.best_score_)\n",
    "\n",
    "    # Test on the test set\n",
    "    best_model = grid_search.best_estimator_\n",
    "    y_pred = best_model.predict(X_test)\n",
    "    print(\"Test Jaccard Score:\", jaccard_score(y_test, y_pred, average='samples', zero_division=0))\n",
    "\n",
    "evaluate_tfidf_and_model(X_train, X_test, y_train, y_test)"
   ]
  },
  {
   "cell_type": "markdown",
   "metadata": {},
   "source": [
    "## 6. Inference"
   ]
  },
  {
   "cell_type": "code",
   "execution_count": 26,
   "metadata": {},
   "outputs": [
    {
     "name": "stdout",
     "output_type": "stream",
     "text": [
      "Predicted Tag Names: ['c#']\n"
     ]
    }
   ],
   "source": [
    "# Test input text\n",
    "test_text = 'convert decimal double c# want assign decimal variable trans double variable opacity decimal trans trackbar value opacity trans build app give follow error cannot implicitly convert type decimal double'\n",
    "\n",
    "# Preprocess the input text (same as during training)\n",
    "test_text_cleaned = custom_tokenizer(test_text)  # Clean and tokenize the input\n",
    "test_text_str = ' '.join(test_text_cleaned)  # Convert list of words to string\n",
    "\n",
    "# Transform the input text using the same TfidfVectorizer\n",
    "test_text_tfidf = tfidf.transform([test_text_str])\n",
    "\n",
    "# Predict the tags using the model\n",
    "predicted_tags = clf.predict(test_text_tfidf)\n",
    "\n",
    "# print(\"Shape of predicted_tags:\", predicted_tags.shape)\n",
    "# print(\"Predicted tags (raw binary vector):\", predicted_tags[0])\n",
    "\n",
    "predicted_tag_names = [top_tags[i] for i in range(len(predicted_tags[0])) if predicted_tags[0][i] == 1]\n",
    "\n",
    "print(\"Predicted Tag Names:\", predicted_tag_names)\n"
   ]
  },
  {
   "cell_type": "code",
   "execution_count": 27,
   "metadata": {},
   "outputs": [
    {
     "name": "stdout",
     "output_type": "stream",
     "text": [
      "Tokens generated by TfidfVectorizer: ['convert', 'decimal', 'double', 'c#', 'want', 'assign', 'decimal', 'variable', 'trans', 'double', 'variable', 'opacity', 'decimal', 'trans', 'trackbar', 'value', 'opacity', 'trans', 'build', 'app', 'give', 'follow', 'error', 'implicitly', 'convert', 'type', 'decimal', 'double', 'convert decimal', 'decimal double', 'double c#', 'c# want', 'want assign', 'assign decimal', 'decimal variable', 'variable trans', 'trans double', 'double variable', 'variable opacity', 'opacity decimal', 'decimal trans', 'trans trackbar', 'trackbar value', 'value opacity', 'opacity trans', 'trans build', 'build app', 'app give', 'give follow', 'follow error', 'error implicitly', 'implicitly convert', 'convert type', 'type decimal', 'decimal double']\n",
      "c#: 1.1576\n",
      "java: -0.7242\n",
      "c++: -0.9785\n",
      "javascript: -0.9794\n",
      "php: -1.9856\n",
      "asp.net: -1.5174\n",
      "jquery: -1.5100\n",
      "iphone: -1.0811\n",
      "python: -1.7775\n",
      "sql: -1.7292\n",
      "html: -1.7825\n",
      "sql-server: -1.7640\n",
      "objective-c: -1.6698\n",
      "mysql: -1.2279\n",
      "windows: -1.3915\n",
      "visual-studio: -1.1468\n",
      "database: -1.5555\n",
      "wpf: -1.4438\n",
      "linux: -1.4844\n",
      "ajax: -1.6594\n",
      "performance: -1.2147\n",
      "xml: -1.7813\n",
      "ruby-on-rails: -1.3807\n",
      "css: -1.2691\n",
      "ruby: -1.3094\n",
      "aspnet-mvc: -1.7298\n",
      "multithreading: -1.7988\n",
      "cocoa: -1.2154\n",
      "cocoa-touch: -0.7944\n",
      "actionscript: -1.6793\n",
      "internet-explorer: -1.9460\n",
      "flash: -1.6922\n",
      "image: -1.8232\n",
      "web-services: -1.5344\n",
      "django: -1.2320\n",
      "apache-flex: -1.3120\n",
      "arrays: -0.4353\n",
      "macos: -1.4801\n",
      "string: -1.3218\n",
      "security: -1.9326\n",
      "user-interface: -1.6986\n",
      "algorithm: -1.5150\n",
      "vb.net: -1.4280\n",
      "eclipse: -1.2735\n",
      "t-sql: -1.5060\n",
      "iis: -0.9391\n",
      "hibernate: -1.2876\n",
      "oracle: -1.2862\n",
      "forms: -1.7585\n",
      "file: -2.2680\n",
      "winapi: -1.8951\n",
      "apache: -1.7561\n",
      "debugging: -1.0988\n",
      "http: -1.5602\n",
      "json: -1.1699\n",
      "winforms: -1.5096\n",
      "parsing: -1.5998\n",
      "xcode: -1.3351\n",
      "events: -1.3119\n",
      "silverlight: -1.4299\n",
      "xaml: -1.6217\n",
      "class: -1.5903\n",
      "spring: -1.4069\n",
      "unit-testing: -1.6097\n",
      "linq: -0.8206\n",
      "android: -1.1414\n",
      "delphi: -1.3211\n",
      "firefox: -1.4218\n",
      "authentication: -1.4031\n",
      "data-binding: -1.6801\n",
      "wcf: -1.3685\n",
      "unix: -1.4915\n",
      "oop: -1.6483\n",
      "visual-c: -1.3400\n",
      "jakarta-ee: -1.6993\n",
      "gcc: -1.5429\n",
      "ios: -1.2269\n",
      "optimization: -1.4114\n",
      "memory: -1.8088\n",
      "perl: -1.5508\n",
      "orm: -1.5068\n",
      "validation: -1.3512\n",
      "regex: -1.3248\n",
      "shell: -1.5923\n",
      "sockets: -1.5823\n",
      "templates: -1.7012\n",
      "memory-management: -1.5988\n",
      "swing: -1.3060\n",
      "com: -1.2403\n",
      "scripting: -1.5379\n",
      "jpa: -1.4117\n",
      "bash: -1.5430\n",
      "caching: -1.7834\n",
      "svn: -1.6103\n",
      "excel: -2.7642\n",
      "linq-to-sql: -1.7533\n",
      "web-applications: -1.5035\n",
      "unicode: -1.5362\n",
      "database-design: -2.1114\n",
      "tomcat: -1.3673\n"
     ]
    }
   ],
   "source": [
    "tokens = tfidf.build_analyzer()(test_text_str)\n",
    "print(\"Tokens generated by TfidfVectorizer:\", tokens)\n",
    "\n",
    "decision_scores = clf.decision_function(test_text_tfidf)\n",
    "for tag, score in zip(top_tags, decision_scores[0]):\n",
    "    print(f\"{tag}: {score:.4f}\")"
   ]
  },
  {
   "cell_type": "markdown",
   "metadata": {},
   "source": [
    "## 7. MLFlow"
   ]
  },
  {
   "cell_type": "code",
   "execution_count": 20,
   "metadata": {},
   "outputs": [
    {
     "name": "stdout",
     "output_type": "stream",
     "text": [
      "Experiment set: Tag Suggestion Classification v2\n"
     ]
    },
    {
     "name": "stderr",
     "output_type": "stream",
     "text": [
      "Training models:   0%|          | 0/3 [00:00<?, ?it/s]"
     ]
    },
    {
     "name": "stdout",
     "output_type": "stream",
     "text": [
      "Starting run for LogisticRegression...\n",
      "Logging model: LogisticRegression, Jaccard score: 0.4929754273504274\n"
     ]
    },
    {
     "name": "stderr",
     "output_type": "stream",
     "text": [
      "Downloading artifacts: 100%|██████████| 7/7 [00:00<00:00, 244.06it/s]\n",
      "Training models:  33%|███▎      | 1/3 [00:42<01:25, 42.85s/it]"
     ]
    },
    {
     "name": "stdout",
     "output_type": "stream",
     "text": [
      "Model LogisticRegression - Jaccard Score: 0.4929754273504274\n",
      "Starting run for SGDClassifier...\n",
      "Logging model: SGDClassifier, Jaccard score: 0.47693172568172576\n"
     ]
    },
    {
     "name": "stderr",
     "output_type": "stream",
     "text": [
      "Downloading artifacts: 100%|██████████| 7/7 [00:00<00:00, 198.41it/s]\n",
      "Training models:  67%|██████▋   | 2/3 [00:53<00:23, 23.90s/it]"
     ]
    },
    {
     "name": "stdout",
     "output_type": "stream",
     "text": [
      "Model SGDClassifier - Jaccard Score: 0.47693172568172576\n",
      "Starting run for LinearSVC...\n",
      "Logging model: LinearSVC, Jaccard score: 0.5056649369149369\n"
     ]
    },
    {
     "name": "stderr",
     "output_type": "stream",
     "text": [
      "Downloading artifacts: 100%|██████████| 7/7 [00:00<00:00, 219.09it/s]\n",
      "Training models: 100%|██████████| 3/3 [02:17<00:00, 45.96s/it]"
     ]
    },
    {
     "name": "stdout",
     "output_type": "stream",
     "text": [
      "Model LinearSVC - Jaccard Score: 0.5056649369149369\n"
     ]
    },
    {
     "name": "stderr",
     "output_type": "stream",
     "text": [
      "\n"
     ]
    }
   ],
   "source": [
    "# Define models to test\n",
    "models = {\n",
    "    \"LogisticRegression\": LogisticRegression(solver= 'liblinear', penalty= 'l1', C= 10),\n",
    "    \"SGDClassifier\": SGDClassifier(loss= 'modified_huber', alpha= 0.0001 ,max_iter=10000),    \n",
    "    \"LinearSVC\": LinearSVC(dual='auto', C=1.5, penalty='l1', max_iter=10000)\n",
    "}\n",
    "\n",
    "# Start a new MLFlow experiment\n",
    "mlflow.set_tracking_uri(\"file:///c:/Users/Luciana/Documents/GitHub/NLP-Multi-Label-Text-Classification-for-Stack-Overflow-Tag-Prediction/mlruns\")\n",
    "mlflow.set_experiment(\"Tag Suggestion Classification v2\")\n",
    "print(\"Experiment set: Tag Suggestion Classification v2\")\n",
    "\n",
    "input_example = X_train_tfidf[0:1]\n",
    "\n",
    "# Iterate over models with a progress bar\n",
    "for model_name, model in tqdm(models.items(), desc=\"Training models\"):\n",
    "    print(f\"Starting run for {model_name}...\")\n",
    "    \n",
    "    with mlflow.start_run(run_name=f\"{model_name}_OneVsRest\"):\n",
    "        \n",
    "        # Create the pipeline with OneVsRestClassifier\n",
    "        pipeline = Pipeline([\n",
    "            ('classifier', OneVsRestClassifier(model))\n",
    "        ])\n",
    "\n",
    "        # Log hyperparameters\n",
    "        mlflow.log_param(\"model_name\", model_name)\n",
    "        \n",
    "        # Measure training time\n",
    "        start_time = time.time()\n",
    "        \n",
    "        # Train the model\n",
    "        pipeline.fit(X_train_tfidf, y_train)\n",
    "        \n",
    "        # Calculate training time\n",
    "        training_time = time.time() - start_time\n",
    "        mlflow.log_metric(\"training_time\", training_time)\n",
    "        \n",
    "        # Predict and calculate Jaccard score\n",
    "        y_pred = pipeline.predict(X_test_tfidf)\n",
    "        jaccard = jaccard_score(y_test, y_pred, average='samples', zero_division=0)\n",
    "        \n",
    "        # Log the Jaccard score\n",
    "        mlflow.log_metric(\"jaccard_score\", jaccard)\n",
    "        print(f\"Logging model: {model_name}, Jaccard score: {jaccard}\")\n",
    "        \n",
    "        # Log the trained model\n",
    "        mlflow.sklearn.log_model(pipeline, artifact_path=f\"models/{model_name}\", input_example=input_example)\n",
    "\n",
    "        # Output the model's Jaccard score\n",
    "        print(f\"Model {model_name} - Jaccard Score: {jaccard}\")"
   ]
  },
  {
   "cell_type": "markdown",
   "metadata": {},
   "source": [
    "## 8. Analyse de stabilité mensuelle"
   ]
  },
  {
   "cell_type": "code",
   "execution_count": 12,
   "metadata": {},
   "outputs": [
    {
     "name": "stdout",
     "output_type": "stream",
     "text": [
      "Month 1 - Jaccard Score: 0.5094932844932845\n",
      "Month 2 - Jaccard Score: 0.49258496133496127\n",
      "Month 3 - Jaccard Score: 0.5011319698819698\n",
      "Month 4 - Jaccard Score: 0.4881995319495319\n",
      "Month 5 - Jaccard Score: 0.5297568172568172\n",
      "Month 6 - Jaccard Score: 0.4929588929588929\n",
      "Month 7 - Jaccard Score: 0.5068910256410256\n",
      "Month 8 - Jaccard Score: 0.49528133903133903\n",
      "Month 9 - Jaccard Score: 0.502241045991046\n",
      "Month 10 - Jaccard Score: 0.5242165242165242\n",
      "Month 11 - Jaccard Score: 0.49351088726088727\n",
      "Month 12 - Jaccard Score: 0.498756105006105\n"
     ]
    }
   ],
   "source": [
    "# Analyse de stabilité mensuelle\n",
    "for month in range(1, 13):\n",
    "    with mlflow.start_run(run_name=f\"Stability_Test_Month_{month}\"):\n",
    "        \n",
    "        # Partition du dataset pour chaque mois\n",
    "        X_test_month, _, y_test_month, _ = train_test_split(X_test_tfidf, y_test, test_size=0.8, random_state=month)\n",
    "\n",
    "        # Prédiction \n",
    "        y_pred_month = pipeline.predict(X_test_month)\n",
    "\n",
    "        # Calcul du jaccard score pour le mois spécifique\n",
    "        jaccard_month = jaccard_score(y_test_month, y_pred_month, average='samples', zero_division=0)\n",
    "\n",
    "        # Logging des résultats\n",
    "        mlflow.log_param(\"month\", month)\n",
    "        mlflow.log_metric(\"jaccard_score_monthly\", jaccard_month)\n",
    "        \n",
    "        print(f\"Month {month} - Jaccard Score: {jaccard_month}\")"
   ]
  }
 ],
 "metadata": {
  "kernelspec": {
   "display_name": "nlp",
   "language": "python",
   "name": "python3"
  },
  "language_info": {
   "codemirror_mode": {
    "name": "ipython",
    "version": 3
   },
   "file_extension": ".py",
   "mimetype": "text/x-python",
   "name": "python",
   "nbconvert_exporter": "python",
   "pygments_lexer": "ipython3",
   "version": "3.9.21"
  }
 },
 "nbformat": 4,
 "nbformat_minor": 4
}
